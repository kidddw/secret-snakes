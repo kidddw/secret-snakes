{
 "cells": [
  {
   "cell_type": "code",
   "execution_count": 4,
   "id": "6d7d590c-79b7-47f8-bd62-e71a71887020",
   "metadata": {},
   "outputs": [],
   "source": [
    "from app.auth import *"
   ]
  },
  {
   "cell_type": "code",
   "execution_count": 5,
   "id": "12cfb324-7ae0-41ed-bbd8-45507126c399",
   "metadata": {},
   "outputs": [],
   "source": [
    "password='Callie11'"
   ]
  },
  {
   "cell_type": "code",
   "execution_count": 7,
   "id": "1f46a3f8-dae7-4563-9fb3-d82312c3f25c",
   "metadata": {},
   "outputs": [
    {
     "data": {
      "text/plain": [
       "'$2b$12$knvrP9mFFLhj0cEb8xcQGe1anvRJ8JBD4nu3evs2HOrfd1x702BjC'"
      ]
     },
     "execution_count": 7,
     "metadata": {},
     "output_type": "execute_result"
    }
   ],
   "source": [
    "get_password_hash(password)"
   ]
  },
  {
   "cell_type": "code",
   "execution_count": null,
   "id": "c932b8b1-a90d-45be-9098-bc12e6571626",
   "metadata": {},
   "outputs": [],
   "source": []
  }
 ],
 "metadata": {
  "kernelspec": {
   "display_name": "Python 3 (ipykernel)",
   "language": "python",
   "name": "python3"
  },
  "language_info": {
   "codemirror_mode": {
    "name": "ipython",
    "version": 3
   },
   "file_extension": ".py",
   "mimetype": "text/x-python",
   "name": "python",
   "nbconvert_exporter": "python",
   "pygments_lexer": "ipython3",
   "version": "3.11.1"
  }
 },
 "nbformat": 4,
 "nbformat_minor": 5
}
